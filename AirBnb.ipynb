{
 "cells": [
  {
   "cell_type": "code",
   "execution_count": 1,
   "metadata": {},
   "outputs": [],
   "source": [
    "import numpy as np\n",
    "import pandas as pd"
   ]
  },
  {
   "cell_type": "code",
   "execution_count": 3,
   "metadata": {},
   "outputs": [],
   "source": [
    "#berlin_listings = pd.read_csv(\"./data/berlin/listings.csv.gz\")\n",
    "#berlin_calendar = pd.read_csv(\"./data/berlin/calendar.csv.gz\")\n",
    "#berlin_reviews = pd.read_csv(\"./data/berlin/reviews.csv.gz\")"
   ]
  },
  {
   "cell_type": "markdown",
   "metadata": {},
   "source": [
    "### Read AirBnB data of Munich, Germany\n",
    "##### Time period: 15.03.2019 + 1 year in the future (calendar)"
   ]
  },
  {
   "cell_type": "markdown",
   "metadata": {},
   "source": [
    "2. Is there any connection between price and rating (are the more expensiver offers better reviewd?)\n",
    "    - \n",
    "3. Is the price influenced by big events like the Oktoberfest?\n",
    "    - problem: only prices from the future, the real bookings are not available\n",
    "    - check data from march against data from spetember and october and check number of available offers, price, availability\n",
    " \n",
    " \n",
    "Missing Value -> Impute values\n",
    "- mean, median, mode for \n",
    "- predict missing values -> supervised learning -> LR or tree based\n",
    "- "
   ]
  },
  {
   "cell_type": "code",
   "execution_count": 6,
   "metadata": {},
   "outputs": [],
   "source": [
    "munich_listings = pd.read_csv(\"./data/munich/listings.csv.gz\")"
   ]
  },
  {
   "cell_type": "code",
   "execution_count": 7,
   "metadata": {},
   "outputs": [],
   "source": [
    "munich_calendar = pd.read_csv(\"./data/munich/calendar.csv.gz\")"
   ]
  },
  {
   "cell_type": "code",
   "execution_count": 8,
   "metadata": {},
   "outputs": [],
   "source": [
    "munich_reviews = pd.read_csv(\"./data/munich/reviews.csv.gz\")"
   ]
  },
  {
   "cell_type": "code",
   "execution_count": 9,
   "metadata": {},
   "outputs": [],
   "source": [
    "munich_neighborhoods = pd.read_csv(\"./data/munich/neighbourhoods.csv\")"
   ]
  },
  {
   "cell_type": "markdown",
   "metadata": {},
   "source": [
    "### 1. Predict the price \n",
    "Predict the price with an Linear Regression Model with the data from the listing. Discover which of the following factors influce the price the most\n",
    "- location\n",
    "- room-type\n",
    "- rating\n",
    "- super-host"
   ]
  },
  {
   "cell_type": "code",
   "execution_count": null,
   "metadata": {},
   "outputs": [],
   "source": []
  },
  {
   "cell_type": "code",
   "execution_count": null,
   "metadata": {},
   "outputs": [],
   "source": []
  },
  {
   "cell_type": "markdown",
   "metadata": {},
   "source": [
    "### 2. Reviews"
   ]
  },
  {
   "cell_type": "code",
   "execution_count": null,
   "metadata": {},
   "outputs": [],
   "source": []
  },
  {
   "cell_type": "markdown",
   "metadata": {},
   "source": [
    "### 3. Influence of events during the year, e.g. Oktoberfest"
   ]
  },
  {
   "cell_type": "code",
   "execution_count": null,
   "metadata": {},
   "outputs": [],
   "source": []
  }
 ],
 "metadata": {
  "kernelspec": {
   "display_name": "Python 3",
   "language": "python",
   "name": "python3"
  },
  "language_info": {
   "codemirror_mode": {
    "name": "ipython",
    "version": 3
   },
   "file_extension": ".py",
   "mimetype": "text/x-python",
   "name": "python",
   "nbconvert_exporter": "python",
   "pygments_lexer": "ipython3",
   "version": "3.8.5"
  }
 },
 "nbformat": 4,
 "nbformat_minor": 4
}
