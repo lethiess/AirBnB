{
 "cells": [
  {
   "cell_type": "markdown",
   "metadata": {},
   "source": [
    "# TODO: \n",
    "# - delete all unused datasets"
   ]
  },
  {
   "cell_type": "code",
   "execution_count": 48,
   "metadata": {},
   "outputs": [],
   "source": [
    "import numpy as np\n",
    "import pandas as pd"
   ]
  },
  {
   "cell_type": "code",
   "execution_count": 30,
   "metadata": {},
   "outputs": [],
   "source": [
    "#berlin_listings = pd.read_csv(\"./data/berlin/listings.csv.gz\")\n",
    "#berlin_calendar = pd.read_csv(\"./data/berlin/calendar.csv.gz\")\n",
    "#berlin_reviews = pd.read_csv(\"./data/berlin/reviews.csv.gz\")"
   ]
  },
  {
   "cell_type": "markdown",
   "metadata": {},
   "source": [
    "### Read AirBnB data of Munich, Germany\n",
    "##### Time period: 15.03.2019 + 1 year in the future (calendar)"
   ]
  },
  {
   "cell_type": "markdown",
   "metadata": {},
   "source": [
    "Problem of the dataset is the timeperiod"
   ]
  },
  {
   "cell_type": "code",
   "execution_count": 50,
   "metadata": {},
   "outputs": [],
   "source": [
    "munich_listings_raw = pd.read_csv(\"./data/munich/listings.csv.gz\") "
   ]
  },
  {
   "cell_type": "code",
   "execution_count": 32,
   "metadata": {},
   "outputs": [],
   "source": [
    "#munich_calendar_raw = pd.read_csv(\"./data/munich/calendar.csv.gz\")"
   ]
  },
  {
   "cell_type": "code",
   "execution_count": 33,
   "metadata": {},
   "outputs": [],
   "source": [
    "#munich_reviews_raw = pd.read_csv(\"./data/munich/reviews.csv.gz\")"
   ]
  },
  {
   "cell_type": "code",
   "execution_count": 34,
   "metadata": {},
   "outputs": [],
   "source": [
    "#munich_neighborhoods = pd.read_csv(\"./data/munich/neighbourhoods.csv\")"
   ]
  },
  {
   "cell_type": "markdown",
   "metadata": {},
   "source": [
    "## 1. Price prediction \n",
    "Predict the price with an Linear Regression Model with the data from the listing. Discover which of the following factors influce the price the most\n",
    "- location = neighbourhood + latitude + longitude\n",
    "- room-type = room_type\n",
    "- rating\n",
    "- host - super-host and identified\n",
    "- instant bookable"
   ]
  },
  {
   "cell_type": "markdown",
   "metadata": {},
   "source": [
    "### 1.1 Dataset preparation"
   ]
  },
  {
   "cell_type": "code",
   "execution_count": 51,
   "metadata": {},
   "outputs": [
    {
     "data": {
      "text/html": [
       "<div>\n",
       "<style scoped>\n",
       "    .dataframe tbody tr th:only-of-type {\n",
       "        vertical-align: middle;\n",
       "    }\n",
       "\n",
       "    .dataframe tbody tr th {\n",
       "        vertical-align: top;\n",
       "    }\n",
       "\n",
       "    .dataframe thead th {\n",
       "        text-align: right;\n",
       "    }\n",
       "</style>\n",
       "<table border=\"1\" class=\"dataframe\">\n",
       "  <thead>\n",
       "    <tr style=\"text-align: right;\">\n",
       "      <th></th>\n",
       "      <th>id</th>\n",
       "      <th>price</th>\n",
       "      <th>neighbourhood</th>\n",
       "      <th>latitude</th>\n",
       "      <th>longitude</th>\n",
       "      <th>review_scores_value</th>\n",
       "      <th>review_scores_rating</th>\n",
       "      <th>number_of_reviews</th>\n",
       "      <th>room_type</th>\n",
       "      <th>host_identity_verified</th>\n",
       "      <th>host_is_superhost</th>\n",
       "      <th>instant_bookable</th>\n",
       "    </tr>\n",
       "  </thead>\n",
       "  <tbody>\n",
       "    <tr>\n",
       "      <th>0</th>\n",
       "      <td>36720</td>\n",
       "      <td>$95.00</td>\n",
       "      <td>Ludwigsvorstadt - Isarvorstadt</td>\n",
       "      <td>48.13057</td>\n",
       "      <td>11.56929</td>\n",
       "      <td>9.0</td>\n",
       "      <td>98.0</td>\n",
       "      <td>25</td>\n",
       "      <td>Entire home/apt</td>\n",
       "      <td>f</td>\n",
       "      <td>f</td>\n",
       "      <td>f</td>\n",
       "    </tr>\n",
       "    <tr>\n",
       "      <th>1</th>\n",
       "      <td>97945</td>\n",
       "      <td>$80.00</td>\n",
       "      <td>Hadern</td>\n",
       "      <td>48.11476</td>\n",
       "      <td>11.48782</td>\n",
       "      <td>9.0</td>\n",
       "      <td>97.0</td>\n",
       "      <td>115</td>\n",
       "      <td>Entire home/apt</td>\n",
       "      <td>f</td>\n",
       "      <td>t</td>\n",
       "      <td>f</td>\n",
       "    </tr>\n",
       "    <tr>\n",
       "      <th>2</th>\n",
       "      <td>114695</td>\n",
       "      <td>$95.00</td>\n",
       "      <td>Berg am Laim</td>\n",
       "      <td>48.11923</td>\n",
       "      <td>11.63726</td>\n",
       "      <td>9.0</td>\n",
       "      <td>95.0</td>\n",
       "      <td>47</td>\n",
       "      <td>Entire home/apt</td>\n",
       "      <td>t</td>\n",
       "      <td>f</td>\n",
       "      <td>f</td>\n",
       "    </tr>\n",
       "    <tr>\n",
       "      <th>3</th>\n",
       "      <td>127383</td>\n",
       "      <td>$120.00</td>\n",
       "      <td>Maxvorstadt</td>\n",
       "      <td>48.15198</td>\n",
       "      <td>11.56486</td>\n",
       "      <td>10.0</td>\n",
       "      <td>97.0</td>\n",
       "      <td>75</td>\n",
       "      <td>Entire home/apt</td>\n",
       "      <td>t</td>\n",
       "      <td>t</td>\n",
       "      <td>f</td>\n",
       "    </tr>\n",
       "    <tr>\n",
       "      <th>4</th>\n",
       "      <td>159634</td>\n",
       "      <td>$55.00</td>\n",
       "      <td>Pasing - Obermenzing</td>\n",
       "      <td>48.13898</td>\n",
       "      <td>11.46612</td>\n",
       "      <td>9.0</td>\n",
       "      <td>93.0</td>\n",
       "      <td>27</td>\n",
       "      <td>Entire home/apt</td>\n",
       "      <td>t</td>\n",
       "      <td>f</td>\n",
       "      <td>t</td>\n",
       "    </tr>\n",
       "  </tbody>\n",
       "</table>\n",
       "</div>"
      ],
      "text/plain": [
       "       id    price                   neighbourhood  latitude  longitude  \\\n",
       "0   36720   $95.00  Ludwigsvorstadt - Isarvorstadt  48.13057   11.56929   \n",
       "1   97945   $80.00                          Hadern  48.11476   11.48782   \n",
       "2  114695   $95.00                    Berg am Laim  48.11923   11.63726   \n",
       "3  127383  $120.00                     Maxvorstadt  48.15198   11.56486   \n",
       "4  159634   $55.00            Pasing - Obermenzing  48.13898   11.46612   \n",
       "\n",
       "   review_scores_value  review_scores_rating  number_of_reviews  \\\n",
       "0                  9.0                  98.0                 25   \n",
       "1                  9.0                  97.0                115   \n",
       "2                  9.0                  95.0                 47   \n",
       "3                 10.0                  97.0                 75   \n",
       "4                  9.0                  93.0                 27   \n",
       "\n",
       "         room_type host_identity_verified host_is_superhost instant_bookable  \n",
       "0  Entire home/apt                      f                 f                f  \n",
       "1  Entire home/apt                      f                 t                f  \n",
       "2  Entire home/apt                      t                 f                f  \n",
       "3  Entire home/apt                      t                 t                f  \n",
       "4  Entire home/apt                      t                 f                t  "
      ]
     },
     "execution_count": 51,
     "metadata": {},
     "output_type": "execute_result"
    }
   ],
   "source": [
    "# define all necessary categories\n",
    "categories = [\"id\",\n",
    "              \"price\",\n",
    "              \"neighbourhood\",\n",
    "              \"latitude\",\n",
    "              \"longitude\", \n",
    "              \"review_scores_value\",\n",
    "              \"review_scores_rating\", \n",
    "              \"number_of_reviews\",\n",
    "              \"room_type\", \n",
    "              \"host_identity_verified\",\n",
    "              \"host_is_superhost\", \n",
    "              \"instant_bookable\" ]\n",
    "# create dataset only with necessary variables/categories\n",
    "munich_listings = munich_listings_raw[categories]\n",
    "munich_listings.head()"
   ]
  },
  {
   "cell_type": "markdown",
   "metadata": {},
   "source": [
    "### 1.2 Check for missing values"
   ]
  },
  {
   "cell_type": "code",
   "execution_count": 62,
   "metadata": {},
   "outputs": [],
   "source": [
    "def find_categories_w_missing_values(df):\n",
    "    categories_w_mising_values = [] \n",
    "    for category in munich_listings.columns:\n",
    "        if not munich_listings[category].isnull().values.any():\n",
    "            print(\"No missing values in \" + category)\n",
    "        else:\n",
    "            print(\"\\033[1m\" + \"Missing values in \", category + \"\\033[0m\")\n",
    "            categories_w_mising_values.append(category)\n",
    "    print(\"\\033[1m\" + \"\\nThere are\", len(categories_w_mising_values), \"categories with missing values\" + \"\\033[0m\")\n",
    "    return categories_w_mising_values"
   ]
  },
  {
   "cell_type": "code",
   "execution_count": 63,
   "metadata": {},
   "outputs": [
    {
     "name": "stdout",
     "output_type": "stream",
     "text": [
      "No missing values in id\n",
      "No missing values in price\n",
      "No missing values in neighbourhood\n",
      "No missing values in latitude\n",
      "No missing values in longitude\n",
      "No missing values in review_scores_value\n",
      "No missing values in review_scores_rating\n",
      "No missing values in number_of_reviews\n",
      "No missing values in room_type\n",
      "No missing values in host_identity_verified\n",
      "No missing values in host_is_superhost\n",
      "No missing values in instant_bookable\n",
      "\u001b[1m\n",
      "There are 0 categories with missing values\u001b[0m\n"
     ]
    }
   ],
   "source": [
    "categories_w_mising_values = find_categories_w_missing_values(munich_listings)"
   ]
  },
  {
   "cell_type": "markdown",
   "metadata": {},
   "source": [
    "### 1.3 Dealing with the missing values in columns:\n",
    "#### review_scores_values, host_identity_verified and host_is_superhost"
   ]
  },
  {
   "cell_type": "code",
   "execution_count": 54,
   "metadata": {},
   "outputs": [],
   "source": [
    "# count missing values\n",
    "def print_missing_values(df, categories):\n",
    "    \"\"\" Args:\n",
    "        df: \n",
    "        categories:\n",
    "        \n",
    "        return:\n",
    "        none\n",
    "    \"\"\"\n",
    "    for category in categories:\n",
    "        print(category)\n",
    "        print(df[category].isnull().value_counts(),\"\\n\")"
   ]
  },
  {
   "cell_type": "code",
   "execution_count": 55,
   "metadata": {},
   "outputs": [
    {
     "name": "stdout",
     "output_type": "stream",
     "text": [
      "review_scores_value\n",
      "False    7330\n",
      "True     2528\n",
      "Name: review_scores_value, dtype: int64 \n",
      "\n",
      "review_scores_rating\n",
      "False    7341\n",
      "True     2517\n",
      "Name: review_scores_rating, dtype: int64 \n",
      "\n",
      "host_identity_verified\n",
      "False    9852\n",
      "True        6\n",
      "Name: host_identity_verified, dtype: int64 \n",
      "\n",
      "host_is_superhost\n",
      "False    9852\n",
      "True        6\n",
      "Name: host_is_superhost, dtype: int64 \n",
      "\n"
     ]
    }
   ],
   "source": [
    "print_missing_values(munich_listings, categories_w_mising_values)"
   ]
  },
  {
   "cell_type": "markdown",
   "metadata": {},
   "source": [
    "About 34% of the dataset entries have missing values in the rating categories. The assumption is that these are the listings without any review. Thus the review will be used for the price prediction all these rows will be removed from the dataset, because imputing the reviews would not make much sense.  "
   ]
  },
  {
   "cell_type": "code",
   "execution_count": 56,
   "metadata": {},
   "outputs": [
    {
     "name": "stdout",
     "output_type": "stream",
     "text": [
      "review_scores_value\n",
      "False    7330\n",
      "True      185\n",
      "Name: review_scores_value, dtype: int64 \n",
      "\n",
      "review_scores_rating\n",
      "False    7341\n",
      "True      174\n",
      "Name: review_scores_rating, dtype: int64 \n",
      "\n",
      "host_identity_verified\n",
      "False    7513\n",
      "True        2\n",
      "Name: host_identity_verified, dtype: int64 \n",
      "\n",
      "host_is_superhost\n",
      "False    7513\n",
      "True        2\n",
      "Name: host_is_superhost, dtype: int64 \n",
      "\n"
     ]
    }
   ],
   "source": [
    "# drop all listings with zero reviews\n",
    "munich_listings = munich_listings.drop(munich_listings[munich_listings[\"number_of_reviews\"]==0].index)\n",
    "print_missing_values(munich_listings, categories_w_mising_values)"
   ]
  },
  {
   "cell_type": "markdown",
   "metadata": {},
   "source": [
    "There are only a few rows (~2%) left with missing value - these rows will also be dropped."
   ]
  },
  {
   "cell_type": "code",
   "execution_count": 57,
   "metadata": {},
   "outputs": [
    {
     "name": "stdout",
     "output_type": "stream",
     "text": [
      "No missing values inid\n",
      "No missing values inprice\n",
      "No missing values inneighbourhood\n",
      "No missing values inlatitude\n",
      "No missing values inlongitude\n",
      "No missing values inreview_scores_value\n",
      "No missing values inreview_scores_rating\n",
      "No missing values innumber_of_reviews\n",
      "No missing values inroom_type\n",
      "No missing values inhost_identity_verified\n",
      "No missing values inhost_is_superhost\n",
      "No missing values ininstant_bookable\n",
      "\u001b[1m\n",
      "There are 0 categories with missing values\u001b[0m\n"
     ]
    },
    {
     "data": {
      "text/plain": [
       "[]"
      ]
     },
     "execution_count": 57,
     "metadata": {},
     "output_type": "execute_result"
    }
   ],
   "source": [
    "for category in categories_w_mising_values:\n",
    "    munich_listings = munich_listings.dropna(subset=[category], axis=0)\n",
    "find_categories_w_missing_values(munich_listings)"
   ]
  },
  {
   "cell_type": "markdown",
   "metadata": {},
   "source": [
    "### 1.4 Exploring categorial variables"
   ]
  },
  {
   "cell_type": "code",
   "execution_count": 58,
   "metadata": {},
   "outputs": [
    {
     "name": "stdout",
     "output_type": "stream",
     "text": [
      "There are 3 unique room types:\n",
      "* Entire home/apt\n",
      "* Private room\n",
      "* Shared room\n"
     ]
    }
   ],
   "source": [
    "room_types = munich_listings[\"room_type\"].unique()\n",
    "print(\"There are\", len(room_types), \"unique room types:\")\n",
    "for room_type in room_types:\n",
    "    print(\"*\", room_type)"
   ]
  },
  {
   "cell_type": "code",
   "execution_count": 47,
   "metadata": {},
   "outputs": [
    {
     "name": "stdout",
     "output_type": "stream",
     "text": [
      "There are 45 unique neighbourhoods:\n",
      "* Ludwigsvorstadt - Isarvorstadt\n",
      "* Hadern\n",
      "* Berg am Laim\n",
      "* Maxvorstadt\n",
      "* Pasing - Obermenzing\n",
      "* Sendling - Westpark\n",
      "* Untergiesing - Harlaching\n",
      "* Schwabing - West\n",
      "* Englschalking\n",
      "* Au - Haidhausen\n",
      "* Neuhausen - Nymphenburg\n",
      "* Schwanthalerhöhe\n",
      "* Bogenhausen\n",
      "* Trudering - Riem\n",
      "* Sendling\n",
      "* Ramersdorf - Perlach\n",
      "* Schwabing - Freimann\n",
      "* Feldmoching - Hasenbergl\n",
      "* Altbogenhausen\n",
      "* Thalkirchen - Obersendling - Forstenried - Fürstenried - Solin\n",
      "* Münchner Freiheit\n",
      "* Am Riesenfeld\n",
      "* Neuhausen\n",
      "* Obergiesing\n",
      "* Altstadt - Lehel\n",
      "* Laim\n",
      "* Aubing - Lochhausen - Landwied\n",
      "* Milbertshofen - Am Hart\n",
      "* Daglfing\n",
      "* Schwabing - Ost\n",
      "* Parkstadt\n",
      "* München - Moosach\n",
      "* Alte Heide - Hirschau\n",
      "* Neufreimann\n",
      "* Allach - Untermenzing\n",
      "* Alt Moosach\n",
      "* Freimann\n",
      "* Nymphenburg\n",
      "* Am Hart\n",
      "* Oberföhring\n",
      "* Milbertshofen\n",
      "* Obere Isarau\n",
      "* Herzogpark\n",
      "* Johanneskirchen\n",
      "* Kleinhesselohe\n"
     ]
    }
   ],
   "source": [
    "neighbourhoods = munich_listings[\"neighbourhood\"].unique()\n",
    "print(\"There are\", len(neighbourhoods), \"unique neighbourhoods:\")\n",
    "for neighbourhood in neighbourhoods:\n",
    "    print(\"*\", neighbourhood)"
   ]
  },
  {
   "cell_type": "markdown",
   "metadata": {},
   "source": [
    "### 1.5 Linear Model for price prediction"
   ]
  },
  {
   "cell_type": "code",
   "execution_count": null,
   "metadata": {},
   "outputs": [],
   "source": []
  },
  {
   "cell_type": "markdown",
   "metadata": {},
   "source": [
    "### 2. Reviews\n",
    " Is there any connection between price and rating (are the more expensiver offers better reviewd?)\n",
    " which was mentioned at most in good ratings?!"
   ]
  },
  {
   "cell_type": "code",
   "execution_count": null,
   "metadata": {},
   "outputs": [],
   "source": []
  },
  {
   "cell_type": "markdown",
   "metadata": {},
   "source": [
    "### 3. Influence of events during the year, e.g. Oktoberfest\n",
    " - problem: only prices from the future, the real bookings are not available\n",
    " - check data from march against data from spetember and october and check number of available offers, price, availability\n",
    " \n",
    " "
   ]
  },
  {
   "cell_type": "code",
   "execution_count": null,
   "metadata": {},
   "outputs": [],
   "source": [
    "#munich_calendar_raw = pd.read_csv(\"./data/munich/calendar.csv.gz\")\n",
    "\n",
    "# join listungs with calendar\n",
    "\n"
   ]
  }
 ],
 "metadata": {
  "kernelspec": {
   "display_name": "Python 3",
   "language": "python",
   "name": "python3"
  },
  "language_info": {
   "codemirror_mode": {
    "name": "ipython",
    "version": 3
   },
   "file_extension": ".py",
   "mimetype": "text/x-python",
   "name": "python",
   "nbconvert_exporter": "python",
   "pygments_lexer": "ipython3",
   "version": "3.8.5"
  }
 },
 "nbformat": 4,
 "nbformat_minor": 4
}
